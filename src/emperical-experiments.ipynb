{
 "cells": [
  {
   "cell_type": "code",
   "execution_count": 1,
   "metadata": {},
   "outputs": [],
   "source": [
    "import numpy as np\n",
    "import scipy as sp\n",
    "import plotly.express as px"
   ]
  },
  {
   "cell_type": "code",
   "execution_count": 19,
   "metadata": {},
   "outputs": [],
   "source": [
    "w0 = 2\n",
    "x0 = 0.1\n",
    "L = int(np.exp(w0*x0) / w0)\n",
    "alpha = 0"
   ]
  },
  {
   "cell_type": "code",
   "execution_count": 15,
   "metadata": {},
   "outputs": [],
   "source": [
    "def X(w):\n",
    "    def OPT(x):\n",
    "        return np.abs(x-x0) + (L / (1 + np.exp(w * x)))\n",
    "    x = np.round(sp.optimize.minimize_scalar(OPT).x, 1)\n",
    "    return x"
   ]
  },
  {
   "cell_type": "code",
   "execution_count": 7,
   "metadata": {},
   "outputs": [],
   "source": [
    "def J(x, w):\n",
    "    return np.abs(x-x0) + (L / (1 + np.exp(w * x)))"
   ]
  },
  {
   "cell_type": "code",
   "execution_count": 20,
   "metadata": {},
   "outputs": [
    {
     "data": {
      "text/plain": [
       "0.1"
      ]
     },
     "execution_count": 20,
     "metadata": {},
     "output_type": "execute_result"
    }
   ],
   "source": [
    "d = {\n",
    "    'w~': [w0 + 0.1*f*w0 for f in range(-10,11)],\n",
    "    'w1': [w0 + 0.1*f*w0 for f in range(-10,11)],\n",
    "    'ratio': []\n",
    "}\n",
    "\n",
    "for wt in d['w~']:\n",
    "    d['ratio'].append([])\n",
    "    xt = X(wt)\n",
    "    for w1 in d['w1']:\n",
    "        x1 = X(w1)\n",
    "        ratio = J(xt, w1) / J(x1, w1)\n",
    "        d['ratio'][-1].append(ratio)"
   ]
  }
 ],
 "metadata": {
  "kernelspec": {
   "display_name": ".env",
   "language": "python",
   "name": "python3"
  },
  "language_info": {
   "codemirror_mode": {
    "name": "ipython",
    "version": 3
   },
   "file_extension": ".py",
   "mimetype": "text/x-python",
   "name": "python",
   "nbconvert_exporter": "python",
   "pygments_lexer": "ipython3",
   "version": "3.11.2"
  },
  "orig_nbformat": 4
 },
 "nbformat": 4,
 "nbformat_minor": 2
}
